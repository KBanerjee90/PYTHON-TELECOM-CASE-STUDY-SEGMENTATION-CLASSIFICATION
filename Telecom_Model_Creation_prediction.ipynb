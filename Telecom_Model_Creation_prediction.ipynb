{
 "cells": [
  {
   "cell_type": "markdown",
   "metadata": {},
   "source": [
    "#### TELECOM CHURN MANAGEMENT - SEGMENTATION - CLASIFICATION - BUILDING THE MODEL"
   ]
  },
  {
   "cell_type": "markdown",
   "metadata": {},
   "source": [
    "### STEP 1 - Importing Libraries and data and scaning the merged data"
   ]
  },
  {
   "cell_type": "code",
   "execution_count": 14,
   "metadata": {
    "collapsed": true
   },
   "outputs": [],
   "source": [
    "import pandas as pd\n",
    "import numpy as np"
   ]
  },
  {
   "cell_type": "code",
   "execution_count": 15,
   "metadata": {
    "collapsed": true
   },
   "outputs": [],
   "source": [
    "# Load the data\n",
    "telecom_active = pd.read_csv(\"telecom_active_cleaned.csv\")\n",
    "telecom_churn = pd.read_csv(\"telecom_churn_cleaned.csv\")"
   ]
  },
  {
   "cell_type": "code",
   "execution_count": 16,
   "metadata": {
    "collapsed": true
   },
   "outputs": [],
   "source": [
    "telecom_active = telecom_active.fillna('NA')\n",
    "telecom_churn = telecom_churn.fillna('NA')"
   ]
  },
  {
   "cell_type": "code",
   "execution_count": 17,
   "metadata": {
    "collapsed": true
   },
   "outputs": [],
   "source": [
    "frames = [telecom_active, telecom_churn]\n",
    "telecom_data = pd.concat(frames)"
   ]
  },
  {
   "cell_type": "code",
   "execution_count": 18,
   "metadata": {},
   "outputs": [
    {
     "data": {
      "text/plain": [
       "Index([u'SITE_ACCOUNT_NUMBER', u'SALES_CHANNEL', u'DIRECT_INDIRECT_CHANNEL',\n",
       "       u'FEEDBACK', u'SITE_TYPE_DESC', u'GENDER', u'AGE', u'INCOME',\n",
       "       u'MARITAL_STATUS', u'PRESENCE_OF_CHILDREN', u'COMPUTER_OWNER',\n",
       "       u'SERVICE_PLAN_CAT', u'MODEL_CAT', u'MOST_RECENT_SALES_CHANNEL_CAT',\n",
       "       u'SATELLITE_CAT', u'WARRANTY_NAME_CAT', u'CHURN_IND', u'UPGRADE_IND'],\n",
       "      dtype='object')"
      ]
     },
     "execution_count": 18,
     "metadata": {},
     "output_type": "execute_result"
    }
   ],
   "source": [
    "telecom_data.columns"
   ]
  },
  {
   "cell_type": "code",
   "execution_count": 19,
   "metadata": {},
   "outputs": [
    {
     "data": {
      "text/html": [
       "<div>\n",
       "<style>\n",
       "    .dataframe thead tr:only-child th {\n",
       "        text-align: right;\n",
       "    }\n",
       "\n",
       "    .dataframe thead th {\n",
       "        text-align: left;\n",
       "    }\n",
       "\n",
       "    .dataframe tbody tr th {\n",
       "        vertical-align: top;\n",
       "    }\n",
       "</style>\n",
       "<table border=\"1\" class=\"dataframe\">\n",
       "  <thead>\n",
       "    <tr style=\"text-align: right;\">\n",
       "      <th></th>\n",
       "      <th>SITE_ACCOUNT_NUMBER</th>\n",
       "      <th>SALES_CHANNEL</th>\n",
       "      <th>DIRECT_INDIRECT_CHANNEL</th>\n",
       "      <th>FEEDBACK</th>\n",
       "      <th>SITE_TYPE_DESC</th>\n",
       "      <th>GENDER</th>\n",
       "      <th>AGE</th>\n",
       "      <th>INCOME</th>\n",
       "      <th>MARITAL_STATUS</th>\n",
       "      <th>PRESENCE_OF_CHILDREN</th>\n",
       "      <th>COMPUTER_OWNER</th>\n",
       "      <th>SERVICE_PLAN_CAT</th>\n",
       "      <th>MODEL_CAT</th>\n",
       "      <th>MOST_RECENT_SALES_CHANNEL_CAT</th>\n",
       "      <th>SATELLITE_CAT</th>\n",
       "      <th>WARRANTY_NAME_CAT</th>\n",
       "      <th>CHURN_IND</th>\n",
       "      <th>UPGRADE_IND</th>\n",
       "    </tr>\n",
       "  </thead>\n",
       "  <tbody>\n",
       "    <tr>\n",
       "      <th>0</th>\n",
       "      <td>AMR-11112345</td>\n",
       "      <td>Vars</td>\n",
       "      <td>Indirect</td>\n",
       "      <td>NA</td>\n",
       "      <td>Broadband Remote</td>\n",
       "      <td>2</td>\n",
       "      <td>69</td>\n",
       "      <td>0</td>\n",
       "      <td>1</td>\n",
       "      <td>0</td>\n",
       "      <td>N</td>\n",
       "      <td>NA</td>\n",
       "      <td>HN9000</td>\n",
       "      <td>HN7K Upgrade</td>\n",
       "      <td>SPACEWAY3</td>\n",
       "      <td>NA</td>\n",
       "      <td>0</td>\n",
       "      <td>1</td>\n",
       "    </tr>\n",
       "    <tr>\n",
       "      <th>1</th>\n",
       "      <td>AMR-14837287</td>\n",
       "      <td>Sales Agents</td>\n",
       "      <td>Indirect</td>\n",
       "      <td>GOOD</td>\n",
       "      <td>Spaceway</td>\n",
       "      <td>2</td>\n",
       "      <td>43</td>\n",
       "      <td>4</td>\n",
       "      <td>1</td>\n",
       "      <td>0</td>\n",
       "      <td>N</td>\n",
       "      <td>Pro</td>\n",
       "      <td>HN7000S</td>\n",
       "      <td>Retail</td>\n",
       "      <td>HZN-VER-SERIES</td>\n",
       "      <td>NA</td>\n",
       "      <td>0</td>\n",
       "      <td>1</td>\n",
       "    </tr>\n",
       "    <tr>\n",
       "      <th>2</th>\n",
       "      <td>AMR-14837803</td>\n",
       "      <td>Call Center</td>\n",
       "      <td>Indirect</td>\n",
       "      <td>BAD</td>\n",
       "      <td>Broadband Remote</td>\n",
       "      <td>2</td>\n",
       "      <td>58</td>\n",
       "      <td>4</td>\n",
       "      <td>1</td>\n",
       "      <td>0</td>\n",
       "      <td>N</td>\n",
       "      <td>Power150</td>\n",
       "      <td>HN9000</td>\n",
       "      <td>National Sales</td>\n",
       "      <td>SM5-VER-SERIES</td>\n",
       "      <td>NA</td>\n",
       "      <td>0</td>\n",
       "      <td>1</td>\n",
       "    </tr>\n",
       "    <tr>\n",
       "      <th>3</th>\n",
       "      <td>AMR-14837821</td>\n",
       "      <td>Sales Agents</td>\n",
       "      <td>Direct</td>\n",
       "      <td>NA</td>\n",
       "      <td>Spaceway</td>\n",
       "      <td>9</td>\n",
       "      <td>22</td>\n",
       "      <td>6</td>\n",
       "      <td>1</td>\n",
       "      <td>1</td>\n",
       "      <td>NA</td>\n",
       "      <td>Power150</td>\n",
       "      <td>DW6000</td>\n",
       "      <td>Direct</td>\n",
       "      <td>SPACEWAY3</td>\n",
       "      <td>NA</td>\n",
       "      <td>0</td>\n",
       "      <td>1</td>\n",
       "    </tr>\n",
       "    <tr>\n",
       "      <th>4</th>\n",
       "      <td>AMR-14839297</td>\n",
       "      <td>Call Center</td>\n",
       "      <td>Indirect</td>\n",
       "      <td>GOOD</td>\n",
       "      <td>Broadband Remote</td>\n",
       "      <td>1</td>\n",
       "      <td>36</td>\n",
       "      <td>7</td>\n",
       "      <td>0</td>\n",
       "      <td>0</td>\n",
       "      <td>NA</td>\n",
       "      <td>Home</td>\n",
       "      <td>HN7000S</td>\n",
       "      <td>DW6K Upgrade</td>\n",
       "      <td>NA</td>\n",
       "      <td>NA</td>\n",
       "      <td>0</td>\n",
       "      <td>1</td>\n",
       "    </tr>\n",
       "  </tbody>\n",
       "</table>\n",
       "</div>"
      ],
      "text/plain": [
       "  SITE_ACCOUNT_NUMBER SALES_CHANNEL DIRECT_INDIRECT_CHANNEL FEEDBACK  \\\n",
       "0        AMR-11112345          Vars                Indirect       NA   \n",
       "1        AMR-14837287  Sales Agents                Indirect     GOOD   \n",
       "2        AMR-14837803   Call Center                Indirect      BAD   \n",
       "3        AMR-14837821  Sales Agents                  Direct       NA   \n",
       "4        AMR-14839297   Call Center                Indirect     GOOD   \n",
       "\n",
       "     SITE_TYPE_DESC  GENDER  AGE INCOME  MARITAL_STATUS  PRESENCE_OF_CHILDREN  \\\n",
       "0  Broadband Remote       2   69      0               1                     0   \n",
       "1          Spaceway       2   43      4               1                     0   \n",
       "2  Broadband Remote       2   58      4               1                     0   \n",
       "3          Spaceway       9   22      6               1                     1   \n",
       "4  Broadband Remote       1   36      7               0                     0   \n",
       "\n",
       "  COMPUTER_OWNER SERVICE_PLAN_CAT MODEL_CAT MOST_RECENT_SALES_CHANNEL_CAT  \\\n",
       "0              N               NA    HN9000                  HN7K Upgrade   \n",
       "1              N              Pro   HN7000S                        Retail   \n",
       "2              N         Power150    HN9000                National Sales   \n",
       "3             NA         Power150    DW6000                        Direct   \n",
       "4             NA             Home   HN7000S                  DW6K Upgrade   \n",
       "\n",
       "    SATELLITE_CAT WARRANTY_NAME_CAT  CHURN_IND  UPGRADE_IND  \n",
       "0       SPACEWAY3                NA          0            1  \n",
       "1  HZN-VER-SERIES                NA          0            1  \n",
       "2  SM5-VER-SERIES                NA          0            1  \n",
       "3       SPACEWAY3                NA          0            1  \n",
       "4              NA                NA          0            1  "
      ]
     },
     "execution_count": 19,
     "metadata": {},
     "output_type": "execute_result"
    }
   ],
   "source": [
    "telecom_data.head()"
   ]
  },
  {
   "cell_type": "code",
   "execution_count": 20,
   "metadata": {},
   "outputs": [
    {
     "name": "stdout",
     "output_type": "stream",
     "text": [
      "<class 'pandas.core.frame.DataFrame'>\n",
      "Int64Index: 19998 entries, 0 to 9999\n",
      "Data columns (total 18 columns):\n",
      "SITE_ACCOUNT_NUMBER              19998 non-null object\n",
      "SALES_CHANNEL                    19998 non-null object\n",
      "DIRECT_INDIRECT_CHANNEL          19998 non-null object\n",
      "FEEDBACK                         19998 non-null object\n",
      "SITE_TYPE_DESC                   19998 non-null object\n",
      "GENDER                           19998 non-null int64\n",
      "AGE                              19998 non-null int64\n",
      "INCOME                           19998 non-null object\n",
      "MARITAL_STATUS                   19998 non-null int64\n",
      "PRESENCE_OF_CHILDREN             19998 non-null int64\n",
      "COMPUTER_OWNER                   19998 non-null object\n",
      "SERVICE_PLAN_CAT                 19998 non-null object\n",
      "MODEL_CAT                        19998 non-null object\n",
      "MOST_RECENT_SALES_CHANNEL_CAT    19998 non-null object\n",
      "SATELLITE_CAT                    19998 non-null object\n",
      "WARRANTY_NAME_CAT                19998 non-null object\n",
      "CHURN_IND                        19998 non-null int64\n",
      "UPGRADE_IND                      19998 non-null int64\n",
      "dtypes: int64(6), object(12)\n",
      "memory usage: 2.9+ MB\n"
     ]
    }
   ],
   "source": [
    "telecom_data.info()"
   ]
  },
  {
   "cell_type": "code",
   "execution_count": 21,
   "metadata": {},
   "outputs": [
    {
     "data": {
      "text/plain": [
       "SITE_ACCOUNT_NUMBER              False\n",
       "SALES_CHANNEL                    False\n",
       "DIRECT_INDIRECT_CHANNEL          False\n",
       "FEEDBACK                         False\n",
       "SITE_TYPE_DESC                   False\n",
       "GENDER                           False\n",
       "AGE                              False\n",
       "INCOME                           False\n",
       "MARITAL_STATUS                   False\n",
       "PRESENCE_OF_CHILDREN             False\n",
       "COMPUTER_OWNER                   False\n",
       "SERVICE_PLAN_CAT                 False\n",
       "MODEL_CAT                        False\n",
       "MOST_RECENT_SALES_CHANNEL_CAT    False\n",
       "SATELLITE_CAT                    False\n",
       "WARRANTY_NAME_CAT                False\n",
       "CHURN_IND                        False\n",
       "UPGRADE_IND                      False\n",
       "dtype: bool"
      ]
     },
     "execution_count": 21,
     "metadata": {},
     "output_type": "execute_result"
    }
   ],
   "source": [
    "telecom_data.isnull().any()"
   ]
  },
  {
   "cell_type": "markdown",
   "metadata": {},
   "source": [
    "The summary statistics for numerical varibales"
   ]
  },
  {
   "cell_type": "code",
   "execution_count": 22,
   "metadata": {},
   "outputs": [
    {
     "data": {
      "text/html": [
       "<div>\n",
       "<style>\n",
       "    .dataframe thead tr:only-child th {\n",
       "        text-align: right;\n",
       "    }\n",
       "\n",
       "    .dataframe thead th {\n",
       "        text-align: left;\n",
       "    }\n",
       "\n",
       "    .dataframe tbody tr th {\n",
       "        vertical-align: top;\n",
       "    }\n",
       "</style>\n",
       "<table border=\"1\" class=\"dataframe\">\n",
       "  <thead>\n",
       "    <tr style=\"text-align: right;\">\n",
       "      <th></th>\n",
       "      <th>count</th>\n",
       "      <th>mean</th>\n",
       "      <th>std</th>\n",
       "      <th>min</th>\n",
       "      <th>25%</th>\n",
       "      <th>50%</th>\n",
       "      <th>75%</th>\n",
       "      <th>max</th>\n",
       "    </tr>\n",
       "  </thead>\n",
       "  <tbody>\n",
       "    <tr>\n",
       "      <th>GENDER</th>\n",
       "      <td>19998.0</td>\n",
       "      <td>2.390889</td>\n",
       "      <td>2.546084</td>\n",
       "      <td>1.0</td>\n",
       "      <td>1.0</td>\n",
       "      <td>2.0</td>\n",
       "      <td>2.0</td>\n",
       "      <td>9.0</td>\n",
       "    </tr>\n",
       "    <tr>\n",
       "      <th>AGE</th>\n",
       "      <td>19998.0</td>\n",
       "      <td>46.688119</td>\n",
       "      <td>14.205702</td>\n",
       "      <td>0.0</td>\n",
       "      <td>35.0</td>\n",
       "      <td>47.0</td>\n",
       "      <td>58.0</td>\n",
       "      <td>92.0</td>\n",
       "    </tr>\n",
       "    <tr>\n",
       "      <th>MARITAL_STATUS</th>\n",
       "      <td>19998.0</td>\n",
       "      <td>2.240774</td>\n",
       "      <td>3.392007</td>\n",
       "      <td>0.0</td>\n",
       "      <td>0.0</td>\n",
       "      <td>1.0</td>\n",
       "      <td>1.0</td>\n",
       "      <td>9.0</td>\n",
       "    </tr>\n",
       "    <tr>\n",
       "      <th>PRESENCE_OF_CHILDREN</th>\n",
       "      <td>19998.0</td>\n",
       "      <td>1.423292</td>\n",
       "      <td>2.938790</td>\n",
       "      <td>0.0</td>\n",
       "      <td>0.0</td>\n",
       "      <td>0.0</td>\n",
       "      <td>1.0</td>\n",
       "      <td>9.0</td>\n",
       "    </tr>\n",
       "    <tr>\n",
       "      <th>CHURN_IND</th>\n",
       "      <td>19998.0</td>\n",
       "      <td>0.500050</td>\n",
       "      <td>0.500012</td>\n",
       "      <td>0.0</td>\n",
       "      <td>0.0</td>\n",
       "      <td>1.0</td>\n",
       "      <td>1.0</td>\n",
       "      <td>1.0</td>\n",
       "    </tr>\n",
       "    <tr>\n",
       "      <th>UPGRADE_IND</th>\n",
       "      <td>19998.0</td>\n",
       "      <td>0.956046</td>\n",
       "      <td>0.204999</td>\n",
       "      <td>0.0</td>\n",
       "      <td>1.0</td>\n",
       "      <td>1.0</td>\n",
       "      <td>1.0</td>\n",
       "      <td>1.0</td>\n",
       "    </tr>\n",
       "  </tbody>\n",
       "</table>\n",
       "</div>"
      ],
      "text/plain": [
       "                        count       mean        std  min   25%   50%   75%  \\\n",
       "GENDER                19998.0   2.390889   2.546084  1.0   1.0   2.0   2.0   \n",
       "AGE                   19998.0  46.688119  14.205702  0.0  35.0  47.0  58.0   \n",
       "MARITAL_STATUS        19998.0   2.240774   3.392007  0.0   0.0   1.0   1.0   \n",
       "PRESENCE_OF_CHILDREN  19998.0   1.423292   2.938790  0.0   0.0   0.0   1.0   \n",
       "CHURN_IND             19998.0   0.500050   0.500012  0.0   0.0   1.0   1.0   \n",
       "UPGRADE_IND           19998.0   0.956046   0.204999  0.0   1.0   1.0   1.0   \n",
       "\n",
       "                       max  \n",
       "GENDER                 9.0  \n",
       "AGE                   92.0  \n",
       "MARITAL_STATUS         9.0  \n",
       "PRESENCE_OF_CHILDREN   9.0  \n",
       "CHURN_IND              1.0  \n",
       "UPGRADE_IND            1.0  "
      ]
     },
     "execution_count": 22,
     "metadata": {},
     "output_type": "execute_result"
    }
   ],
   "source": [
    "telecom_data.describe().T"
   ]
  },
  {
   "cell_type": "markdown",
   "metadata": {},
   "source": [
    "### STEP 2 - Encoding and preparting the data for model creation"
   ]
  },
  {
   "cell_type": "markdown",
   "metadata": {},
   "source": [
    "    Since we have multiple categorical varibles - creating dummies will cause un-managable increase in columns\n",
    "    So I am Encoding Categorical Features to have a managable datasize"
   ]
  },
  {
   "cell_type": "code",
   "execution_count": 23,
   "metadata": {
    "collapsed": true
   },
   "outputs": [],
   "source": [
    "# Encoding Categorical Features\n",
    "from sklearn.preprocessing import LabelEncoder\n",
    "encoder = LabelEncoder()\n",
    "\n",
    "telecom_data['SALES_CHANNEL_EN'] = encoder.fit_transform(telecom_data['SALES_CHANNEL'])\n",
    "telecom_data['DIRECT_INDIRECT_CHANNEL_EN'] = encoder.fit_transform(telecom_data['DIRECT_INDIRECT_CHANNEL'])\n",
    "telecom_data['FEEDBACK_EN'] = encoder.fit_transform(telecom_data['FEEDBACK'])\n",
    "telecom_data['SITE_TYPE_DESC_EN'] = encoder.fit_transform(telecom_data['SITE_TYPE_DESC'])\n",
    "telecom_data['INCOME_EN'] = encoder.fit_transform(telecom_data['INCOME'])\n",
    "telecom_data['COMPUTER_OWNER_EN'] = encoder.fit_transform(telecom_data['COMPUTER_OWNER'])\n",
    "telecom_data['SERVICE_PLAN_CAT_EN'] = encoder.fit_transform(telecom_data['SERVICE_PLAN_CAT'])\n",
    "telecom_data['MODEL_CAT_EN'] = encoder.fit_transform(telecom_data['MODEL_CAT'])\n",
    "telecom_data['MOST_RECENT_SALES_CHANNEL_CAT_EN'] = encoder.fit_transform(telecom_data['MOST_RECENT_SALES_CHANNEL_CAT'])\n",
    "telecom_data['SATELLITE_CAT_EN'] = encoder.fit_transform(telecom_data['SATELLITE_CAT'])\n",
    "telecom_data['WARRANTY_NAME_CAT_EN'] = encoder.fit_transform(telecom_data['WARRANTY_NAME_CAT'])"
   ]
  },
  {
   "cell_type": "code",
   "execution_count": 24,
   "metadata": {
    "collapsed": true
   },
   "outputs": [],
   "source": [
    "df_telecom = telecom_data.select_dtypes(include=['int64']).copy()"
   ]
  },
  {
   "cell_type": "code",
   "execution_count": 25,
   "metadata": {},
   "outputs": [
    {
     "name": "stdout",
     "output_type": "stream",
     "text": [
      "<class 'pandas.core.frame.DataFrame'>\n",
      "Int64Index: 19998 entries, 0 to 9999\n",
      "Data columns (total 17 columns):\n",
      "GENDER                              19998 non-null int64\n",
      "AGE                                 19998 non-null int64\n",
      "MARITAL_STATUS                      19998 non-null int64\n",
      "PRESENCE_OF_CHILDREN                19998 non-null int64\n",
      "CHURN_IND                           19998 non-null int64\n",
      "UPGRADE_IND                         19998 non-null int64\n",
      "SALES_CHANNEL_EN                    19998 non-null int64\n",
      "DIRECT_INDIRECT_CHANNEL_EN          19998 non-null int64\n",
      "FEEDBACK_EN                         19998 non-null int64\n",
      "SITE_TYPE_DESC_EN                   19998 non-null int64\n",
      "INCOME_EN                           19998 non-null int64\n",
      "COMPUTER_OWNER_EN                   19998 non-null int64\n",
      "SERVICE_PLAN_CAT_EN                 19998 non-null int64\n",
      "MODEL_CAT_EN                        19998 non-null int64\n",
      "MOST_RECENT_SALES_CHANNEL_CAT_EN    19998 non-null int64\n",
      "SATELLITE_CAT_EN                    19998 non-null int64\n",
      "WARRANTY_NAME_CAT_EN                19998 non-null int64\n",
      "dtypes: int64(17)\n",
      "memory usage: 2.7 MB\n"
     ]
    }
   ],
   "source": [
    "df_telecom.info()"
   ]
  },
  {
   "cell_type": "code",
   "execution_count": 26,
   "metadata": {},
   "outputs": [
    {
     "data": {
      "text/html": [
       "<div>\n",
       "<style>\n",
       "    .dataframe thead tr:only-child th {\n",
       "        text-align: right;\n",
       "    }\n",
       "\n",
       "    .dataframe thead th {\n",
       "        text-align: left;\n",
       "    }\n",
       "\n",
       "    .dataframe tbody tr th {\n",
       "        vertical-align: top;\n",
       "    }\n",
       "</style>\n",
       "<table border=\"1\" class=\"dataframe\">\n",
       "  <thead>\n",
       "    <tr style=\"text-align: right;\">\n",
       "      <th></th>\n",
       "      <th>GENDER</th>\n",
       "      <th>AGE</th>\n",
       "      <th>MARITAL_STATUS</th>\n",
       "      <th>PRESENCE_OF_CHILDREN</th>\n",
       "      <th>CHURN_IND</th>\n",
       "      <th>UPGRADE_IND</th>\n",
       "      <th>SALES_CHANNEL_EN</th>\n",
       "      <th>DIRECT_INDIRECT_CHANNEL_EN</th>\n",
       "      <th>FEEDBACK_EN</th>\n",
       "      <th>SITE_TYPE_DESC_EN</th>\n",
       "      <th>INCOME_EN</th>\n",
       "      <th>COMPUTER_OWNER_EN</th>\n",
       "      <th>SERVICE_PLAN_CAT_EN</th>\n",
       "      <th>MODEL_CAT_EN</th>\n",
       "      <th>MOST_RECENT_SALES_CHANNEL_CAT_EN</th>\n",
       "      <th>SATELLITE_CAT_EN</th>\n",
       "      <th>WARRANTY_NAME_CAT_EN</th>\n",
       "    </tr>\n",
       "  </thead>\n",
       "  <tbody>\n",
       "    <tr>\n",
       "      <th>0</th>\n",
       "      <td>2</td>\n",
       "      <td>69</td>\n",
       "      <td>1</td>\n",
       "      <td>0</td>\n",
       "      <td>0</td>\n",
       "      <td>1</td>\n",
       "      <td>6</td>\n",
       "      <td>1</td>\n",
       "      <td>2</td>\n",
       "      <td>1</td>\n",
       "      <td>0</td>\n",
       "      <td>0</td>\n",
       "      <td>4</td>\n",
       "      <td>5</td>\n",
       "      <td>11</td>\n",
       "      <td>11</td>\n",
       "      <td>7</td>\n",
       "    </tr>\n",
       "    <tr>\n",
       "      <th>1</th>\n",
       "      <td>2</td>\n",
       "      <td>43</td>\n",
       "      <td>1</td>\n",
       "      <td>0</td>\n",
       "      <td>0</td>\n",
       "      <td>1</td>\n",
       "      <td>5</td>\n",
       "      <td>1</td>\n",
       "      <td>1</td>\n",
       "      <td>3</td>\n",
       "      <td>4</td>\n",
       "      <td>0</td>\n",
       "      <td>7</td>\n",
       "      <td>4</td>\n",
       "      <td>16</td>\n",
       "      <td>5</td>\n",
       "      <td>7</td>\n",
       "    </tr>\n",
       "    <tr>\n",
       "      <th>2</th>\n",
       "      <td>2</td>\n",
       "      <td>58</td>\n",
       "      <td>1</td>\n",
       "      <td>0</td>\n",
       "      <td>0</td>\n",
       "      <td>1</td>\n",
       "      <td>0</td>\n",
       "      <td>1</td>\n",
       "      <td>0</td>\n",
       "      <td>1</td>\n",
       "      <td>4</td>\n",
       "      <td>0</td>\n",
       "      <td>6</td>\n",
       "      <td>5</td>\n",
       "      <td>15</td>\n",
       "      <td>8</td>\n",
       "      <td>7</td>\n",
       "    </tr>\n",
       "    <tr>\n",
       "      <th>3</th>\n",
       "      <td>9</td>\n",
       "      <td>22</td>\n",
       "      <td>1</td>\n",
       "      <td>1</td>\n",
       "      <td>0</td>\n",
       "      <td>1</td>\n",
       "      <td>5</td>\n",
       "      <td>0</td>\n",
       "      <td>2</td>\n",
       "      <td>3</td>\n",
       "      <td>6</td>\n",
       "      <td>1</td>\n",
       "      <td>6</td>\n",
       "      <td>2</td>\n",
       "      <td>8</td>\n",
       "      <td>11</td>\n",
       "      <td>7</td>\n",
       "    </tr>\n",
       "    <tr>\n",
       "      <th>4</th>\n",
       "      <td>1</td>\n",
       "      <td>36</td>\n",
       "      <td>0</td>\n",
       "      <td>0</td>\n",
       "      <td>0</td>\n",
       "      <td>1</td>\n",
       "      <td>0</td>\n",
       "      <td>1</td>\n",
       "      <td>1</td>\n",
       "      <td>1</td>\n",
       "      <td>7</td>\n",
       "      <td>1</td>\n",
       "      <td>3</td>\n",
       "      <td>4</td>\n",
       "      <td>3</td>\n",
       "      <td>6</td>\n",
       "      <td>7</td>\n",
       "    </tr>\n",
       "  </tbody>\n",
       "</table>\n",
       "</div>"
      ],
      "text/plain": [
       "   GENDER  AGE  MARITAL_STATUS  PRESENCE_OF_CHILDREN  CHURN_IND  UPGRADE_IND  \\\n",
       "0       2   69               1                     0          0            1   \n",
       "1       2   43               1                     0          0            1   \n",
       "2       2   58               1                     0          0            1   \n",
       "3       9   22               1                     1          0            1   \n",
       "4       1   36               0                     0          0            1   \n",
       "\n",
       "   SALES_CHANNEL_EN  DIRECT_INDIRECT_CHANNEL_EN  FEEDBACK_EN  \\\n",
       "0                 6                           1            2   \n",
       "1                 5                           1            1   \n",
       "2                 0                           1            0   \n",
       "3                 5                           0            2   \n",
       "4                 0                           1            1   \n",
       "\n",
       "   SITE_TYPE_DESC_EN  INCOME_EN  COMPUTER_OWNER_EN  SERVICE_PLAN_CAT_EN  \\\n",
       "0                  1          0                  0                    4   \n",
       "1                  3          4                  0                    7   \n",
       "2                  1          4                  0                    6   \n",
       "3                  3          6                  1                    6   \n",
       "4                  1          7                  1                    3   \n",
       "\n",
       "   MODEL_CAT_EN  MOST_RECENT_SALES_CHANNEL_CAT_EN  SATELLITE_CAT_EN  \\\n",
       "0             5                                11                11   \n",
       "1             4                                16                 5   \n",
       "2             5                                15                 8   \n",
       "3             2                                 8                11   \n",
       "4             4                                 3                 6   \n",
       "\n",
       "   WARRANTY_NAME_CAT_EN  \n",
       "0                     7  \n",
       "1                     7  \n",
       "2                     7  \n",
       "3                     7  \n",
       "4                     7  "
      ]
     },
     "execution_count": 26,
     "metadata": {},
     "output_type": "execute_result"
    }
   ],
   "source": [
    "df_telecom.head()"
   ]
  },
  {
   "cell_type": "markdown",
   "metadata": {},
   "source": [
    "### STEP 3 - Creating the model and getting churn probability"
   ]
  },
  {
   "cell_type": "code",
   "execution_count": 58,
   "metadata": {},
   "outputs": [],
   "source": [
    "from sklearn import metrics\n",
    "from sklearn.tree import DecisionTreeClassifier, export_graphviz, export\n",
    "from sklearn.grid_search import GridSearchCV"
   ]
  },
  {
   "cell_type": "code",
   "execution_count": 40,
   "metadata": {
    "collapsed": true
   },
   "outputs": [],
   "source": [
    "#Splitting the data\n",
    "feature_columns = df_telecom.columns.difference( ['CHURN_IND'] )"
   ]
  },
  {
   "cell_type": "code",
   "execution_count": 41,
   "metadata": {},
   "outputs": [],
   "source": [
    "from sklearn.cross_validation import train_test_split\n",
    "\n",
    "\n",
    "train_X, test_X, train_y, test_y = train_test_split( df_telecom[feature_columns],\n",
    "                                                  df_telecom['CHURN_IND'],\n",
    "                                                  test_size = 0.2,\n",
    "                                                  random_state = 42 )"
   ]
  },
  {
   "cell_type": "code",
   "execution_count": 42,
   "metadata": {},
   "outputs": [
    {
     "data": {
      "text/plain": [
       "LogisticRegression(C=1.0, class_weight=None, dual=False, fit_intercept=True,\n",
       "          intercept_scaling=1, max_iter=100, multi_class='ovr', n_jobs=1,\n",
       "          penalty='l2', random_state=None, solver='liblinear', tol=0.0001,\n",
       "          verbose=0, warm_start=False)"
      ]
     },
     "execution_count": 42,
     "metadata": {},
     "output_type": "execute_result"
    }
   ],
   "source": [
    "# Building Models\n",
    "from sklearn.linear_model import LogisticRegression\n",
    "\n",
    "logreg = LogisticRegression()\n",
    "logreg.fit( train_X, train_y )"
   ]
  },
  {
   "cell_type": "code",
   "execution_count": 43,
   "metadata": {},
   "outputs": [
    {
     "data": {
      "text/plain": [
       "[('AGE', 0.031867468501663811),\n",
       " ('COMPUTER_OWNER_EN', 0.96645702225910501),\n",
       " ('DIRECT_INDIRECT_CHANNEL_EN', 0.092224252894087422),\n",
       " ('FEEDBACK_EN', -0.31852081735217214),\n",
       " ('GENDER', -0.015901766783318609),\n",
       " ('INCOME_EN', 0.07966007975412677),\n",
       " ('MARITAL_STATUS', 0.3544450347159897),\n",
       " ('MODEL_CAT_EN', -0.20444713143422227),\n",
       " ('MOST_RECENT_SALES_CHANNEL_CAT_EN', 0.10307499822974435),\n",
       " ('PRESENCE_OF_CHILDREN', 0.036075265997232854),\n",
       " ('SALES_CHANNEL_EN', -0.039368052900834477),\n",
       " ('SATELLITE_CAT_EN', 0.031958854698193602),\n",
       " ('SERVICE_PLAN_CAT_EN', 0.052137046456303203),\n",
       " ('SITE_TYPE_DESC_EN', 0.89629163344295959),\n",
       " ('UPGRADE_IND', -4.2815867991507703),\n",
       " ('WARRANTY_NAME_CAT_EN', -0.42558101083167793)]"
      ]
     },
     "execution_count": 43,
     "metadata": {},
     "output_type": "execute_result"
    }
   ],
   "source": [
    "list( zip( feature_columns, logreg.coef_[0] ) )"
   ]
  },
  {
   "cell_type": "code",
   "execution_count": 44,
   "metadata": {},
   "outputs": [
    {
     "data": {
      "text/plain": [
       "array([ 1.76037815])"
      ]
     },
     "execution_count": 44,
     "metadata": {},
     "output_type": "execute_result"
    }
   ],
   "source": [
    "logreg.intercept_"
   ]
  },
  {
   "cell_type": "code",
   "execution_count": 45,
   "metadata": {
    "collapsed": true
   },
   "outputs": [],
   "source": [
    "#Predicting on train dataset\n",
    "tele_train_pred = pd.DataFrame( { 'actual':  train_y,\n",
    "                            'predicted': logreg.predict( train_X ) } )"
   ]
  },
  {
   "cell_type": "code",
   "execution_count": 46,
   "metadata": {},
   "outputs": [
    {
     "data": {
      "text/plain": [
       "0.83"
      ]
     },
     "execution_count": 46,
     "metadata": {},
     "output_type": "execute_result"
    }
   ],
   "source": [
    "score = metrics.accuracy_score( tele_train_pred.actual, tele_train_pred.predicted )\n",
    "round( float(score), 2 )"
   ]
  },
  {
   "cell_type": "code",
   "execution_count": 47,
   "metadata": {
    "collapsed": true
   },
   "outputs": [],
   "source": [
    "#Predicting on test data\n",
    "tele_test_pred = pd.DataFrame( { 'actual':  test_y,\n",
    "                            'predicted': logreg.predict( test_X ) } )"
   ]
  },
  {
   "cell_type": "code",
   "execution_count": 48,
   "metadata": {
    "collapsed": true
   },
   "outputs": [],
   "source": [
    "tele_test_pred = tele_test_pred.reset_index()"
   ]
  },
  {
   "cell_type": "code",
   "execution_count": 49,
   "metadata": {
    "collapsed": true
   },
   "outputs": [],
   "source": [
    "import matplotlib.pyplot as plt\n",
    "import seaborn as sn\n",
    "%matplotlib inline"
   ]
  },
  {
   "cell_type": "code",
   "execution_count": 50,
   "metadata": {},
   "outputs": [
    {
     "data": {
      "text/plain": [
       "array([[1583,  443],\n",
       "       [ 303, 1671]], dtype=int64)"
      ]
     },
     "execution_count": 50,
     "metadata": {},
     "output_type": "execute_result"
    }
   ],
   "source": [
    "# Creating a confusion matrix\n",
    "\n",
    "from sklearn import metrics\n",
    "\n",
    "cm = metrics.confusion_matrix( tele_test_pred.actual,\n",
    "                            tele_test_pred.predicted, [1,0] )\n",
    "cm"
   ]
  },
  {
   "cell_type": "code",
   "execution_count": 51,
   "metadata": {},
   "outputs": [
    {
     "data": {
      "text/plain": [
       "Text(0.5,15,u'Predicted label')"
      ]
     },
     "execution_count": 51,
     "metadata": {},
     "output_type": "execute_result"
    },
    {
     "data": {
      "image/png": "[encoded data removed]",
      "text/plain": [
       "<matplotlib.figure.Figure at 0x1191ecf8>"
      ]
     },
     "metadata": {},
     "output_type": "display_data"
    }
   ],
   "source": [
    "sn.heatmap(cm, annot=True,  fmt='.2f', xticklabels = [\"Churn\", \"Not Churn\"] , yticklabels = [\"Churn\", \"Not Churn\"] )\n",
    "plt.ylabel('True label')\n",
    "plt.xlabel('Predicted label')"
   ]
  },
  {
   "cell_type": "code",
   "execution_count": 52,
   "metadata": {},
   "outputs": [
    {
     "data": {
      "text/plain": [
       "0.81"
      ]
     },
     "execution_count": 52,
     "metadata": {},
     "output_type": "execute_result"
    }
   ],
   "source": [
    "score = metrics.accuracy_score( tele_test_pred.actual, tele_test_pred.predicted )\n",
    "round( float(score), 2 )"
   ]
  },
  {
   "cell_type": "markdown",
   "metadata": {},
   "source": [
    "    Overall train accuracy is 83% and Test accuracy is 81%\n",
    "    We are looking to enhance the accuracy using Grid Search to Fine Tune the parameters"
   ]
  },
  {
   "cell_type": "markdown",
   "metadata": {},
   "source": [
    "##### Fine Tuning the parameters"
   ]
  },
  {
   "cell_type": "code",
   "execution_count": 53,
   "metadata": {
    "collapsed": true
   },
   "outputs": [],
   "source": [
    "param_grid = {'max_depth': np.arange(3, 16),\n",
    "             'max_features': np.arange(3,8)}"
   ]
  },
  {
   "cell_type": "code",
   "execution_count": 54,
   "metadata": {},
   "outputs": [
    {
     "data": {
      "text/plain": [
       "GridSearchCV(cv=10, error_score='raise',\n",
       "       estimator=DecisionTreeClassifier(class_weight=None, criterion='gini', max_depth=None,\n",
       "            max_features=None, max_leaf_nodes=None,\n",
       "            min_impurity_decrease=0.0, min_impurity_split=None,\n",
       "            min_samples_leaf=1, min_samples_split=2,\n",
       "            min_weight_fraction_leaf=0.0, presort=False, random_state=None,\n",
       "            splitter='best'),\n",
       "       fit_params={}, iid=True, n_jobs=1,\n",
       "       param_grid={'max_features': array([3, 4, 5, 6, 7]), 'max_depth': array([ 3,  4,  5,  6,  7,  8,  9, 10, 11, 12, 13, 14, 15])},\n",
       "       pre_dispatch='2*n_jobs', refit=True, scoring=None, verbose=0)"
      ]
     },
     "execution_count": 54,
     "metadata": {},
     "output_type": "execute_result"
    }
   ],
   "source": [
    "tree = GridSearchCV(DecisionTreeClassifier(), param_grid, cv = 10)\n",
    "tree.fit( train_X, train_y )"
   ]
  },
  {
   "cell_type": "code",
   "execution_count": 55,
   "metadata": {},
   "outputs": [
    {
     "data": {
      "text/plain": [
       "{'max_depth': 15, 'max_features': 7}"
      ]
     },
     "execution_count": 55,
     "metadata": {},
     "output_type": "execute_result"
    }
   ],
   "source": [
    "tree.best_params_"
   ]
  },
  {
   "cell_type": "code",
   "execution_count": 56,
   "metadata": {},
   "outputs": [
    {
     "data": {
      "text/plain": [
       "0.9302412801600201"
      ]
     },
     "execution_count": 56,
     "metadata": {},
     "output_type": "execute_result"
    }
   ],
   "source": [
    "tree.best_score_"
   ]
  },
  {
   "cell_type": "markdown",
   "metadata": {},
   "source": [
    "### Building Final Decision Tree Model based on best parameters"
   ]
  },
  {
   "cell_type": "code",
   "execution_count": 59,
   "metadata": {},
   "outputs": [
    {
     "data": {
      "text/html": [
       "<div>\n",
       "<style>\n",
       "    .dataframe thead tr:only-child th {\n",
       "        text-align: right;\n",
       "    }\n",
       "\n",
       "    .dataframe thead th {\n",
       "        text-align: left;\n",
       "    }\n",
       "\n",
       "    .dataframe tbody tr th {\n",
       "        vertical-align: top;\n",
       "    }\n",
       "</style>\n",
       "<table border=\"1\" class=\"dataframe\">\n",
       "  <thead>\n",
       "    <tr style=\"text-align: right;\">\n",
       "      <th></th>\n",
       "      <th>AGE</th>\n",
       "      <th>COMPUTER_OWNER_EN</th>\n",
       "      <th>DIRECT_INDIRECT_CHANNEL_EN</th>\n",
       "      <th>FEEDBACK_EN</th>\n",
       "      <th>GENDER</th>\n",
       "      <th>INCOME_EN</th>\n",
       "      <th>MARITAL_STATUS</th>\n",
       "      <th>MODEL_CAT_EN</th>\n",
       "      <th>MOST_RECENT_SALES_CHANNEL_CAT_EN</th>\n",
       "      <th>PRESENCE_OF_CHILDREN</th>\n",
       "      <th>SALES_CHANNEL_EN</th>\n",
       "      <th>SATELLITE_CAT_EN</th>\n",
       "      <th>SERVICE_PLAN_CAT_EN</th>\n",
       "      <th>SITE_TYPE_DESC_EN</th>\n",
       "      <th>UPGRADE_IND</th>\n",
       "      <th>WARRANTY_NAME_CAT_EN</th>\n",
       "    </tr>\n",
       "  </thead>\n",
       "  <tbody>\n",
       "    <tr>\n",
       "      <th>1870</th>\n",
       "      <td>70</td>\n",
       "      <td>2</td>\n",
       "      <td>1</td>\n",
       "      <td>0</td>\n",
       "      <td>1</td>\n",
       "      <td>8</td>\n",
       "      <td>9</td>\n",
       "      <td>2</td>\n",
       "      <td>8</td>\n",
       "      <td>0</td>\n",
       "      <td>3</td>\n",
       "      <td>0</td>\n",
       "      <td>11</td>\n",
       "      <td>3</td>\n",
       "      <td>1</td>\n",
       "      <td>1</td>\n",
       "    </tr>\n",
       "    <tr>\n",
       "      <th>1323</th>\n",
       "      <td>68</td>\n",
       "      <td>1</td>\n",
       "      <td>0</td>\n",
       "      <td>1</td>\n",
       "      <td>1</td>\n",
       "      <td>13</td>\n",
       "      <td>0</td>\n",
       "      <td>4</td>\n",
       "      <td>8</td>\n",
       "      <td>0</td>\n",
       "      <td>3</td>\n",
       "      <td>2</td>\n",
       "      <td>8</td>\n",
       "      <td>1</td>\n",
       "      <td>1</td>\n",
       "      <td>6</td>\n",
       "    </tr>\n",
       "    <tr>\n",
       "      <th>5749</th>\n",
       "      <td>28</td>\n",
       "      <td>0</td>\n",
       "      <td>1</td>\n",
       "      <td>1</td>\n",
       "      <td>1</td>\n",
       "      <td>13</td>\n",
       "      <td>1</td>\n",
       "      <td>4</td>\n",
       "      <td>3</td>\n",
       "      <td>1</td>\n",
       "      <td>5</td>\n",
       "      <td>1</td>\n",
       "      <td>1</td>\n",
       "      <td>1</td>\n",
       "      <td>1</td>\n",
       "      <td>7</td>\n",
       "    </tr>\n",
       "    <tr>\n",
       "      <th>1688</th>\n",
       "      <td>55</td>\n",
       "      <td>0</td>\n",
       "      <td>1</td>\n",
       "      <td>1</td>\n",
       "      <td>2</td>\n",
       "      <td>9</td>\n",
       "      <td>1</td>\n",
       "      <td>4</td>\n",
       "      <td>2</td>\n",
       "      <td>0</td>\n",
       "      <td>5</td>\n",
       "      <td>2</td>\n",
       "      <td>10</td>\n",
       "      <td>1</td>\n",
       "      <td>1</td>\n",
       "      <td>7</td>\n",
       "    </tr>\n",
       "    <tr>\n",
       "      <th>6834</th>\n",
       "      <td>42</td>\n",
       "      <td>1</td>\n",
       "      <td>1</td>\n",
       "      <td>2</td>\n",
       "      <td>2</td>\n",
       "      <td>0</td>\n",
       "      <td>0</td>\n",
       "      <td>4</td>\n",
       "      <td>16</td>\n",
       "      <td>9</td>\n",
       "      <td>4</td>\n",
       "      <td>2</td>\n",
       "      <td>6</td>\n",
       "      <td>1</td>\n",
       "      <td>1</td>\n",
       "      <td>7</td>\n",
       "    </tr>\n",
       "  </tbody>\n",
       "</table>\n",
       "</div>"
      ],
      "text/plain": [
       "      AGE  COMPUTER_OWNER_EN  DIRECT_INDIRECT_CHANNEL_EN  FEEDBACK_EN  GENDER  \\\n",
       "1870   70                  2                           1            0       1   \n",
       "1323   68                  1                           0            1       1   \n",
       "5749   28                  0                           1            1       1   \n",
       "1688   55                  0                           1            1       2   \n",
       "6834   42                  1                           1            2       2   \n",
       "\n",
       "      INCOME_EN  MARITAL_STATUS  MODEL_CAT_EN  \\\n",
       "1870          8               9             2   \n",
       "1323         13               0             4   \n",
       "5749         13               1             4   \n",
       "1688          9               1             4   \n",
       "6834          0               0             4   \n",
       "\n",
       "      MOST_RECENT_SALES_CHANNEL_CAT_EN  PRESENCE_OF_CHILDREN  \\\n",
       "1870                                 8                     0   \n",
       "1323                                 8                     0   \n",
       "5749                                 3                     1   \n",
       "1688                                 2                     0   \n",
       "6834                                16                     9   \n",
       "\n",
       "      SALES_CHANNEL_EN  SATELLITE_CAT_EN  SERVICE_PLAN_CAT_EN  \\\n",
       "1870                 3                 0                   11   \n",
       "1323                 3                 2                    8   \n",
       "5749                 5                 1                    1   \n",
       "1688                 5                 2                   10   \n",
       "6834                 4                 2                    6   \n",
       "\n",
       "      SITE_TYPE_DESC_EN  UPGRADE_IND  WARRANTY_NAME_CAT_EN  \n",
       "1870                  3            1                     1  \n",
       "1323                  1            1                     6  \n",
       "5749                  1            1                     7  \n",
       "1688                  1            1                     7  \n",
       "6834                  1            1                     7  "
      ]
     },
     "execution_count": 59,
     "metadata": {},
     "output_type": "execute_result"
    }
   ],
   "source": [
    "train_X.head()"
   ]
  },
  {
   "cell_type": "code",
   "execution_count": 60,
   "metadata": {},
   "outputs": [
    {
     "data": {
      "text/plain": [
       "DecisionTreeClassifier(class_weight=None, criterion='gini', max_depth=15,\n",
       "            max_features=7, max_leaf_nodes=None, min_impurity_decrease=0.0,\n",
       "            min_impurity_split=None, min_samples_leaf=1,\n",
       "            min_samples_split=2, min_weight_fraction_leaf=0.0,\n",
       "            presort=False, random_state=None, splitter='best')"
      ]
     },
     "execution_count": 60,
     "metadata": {},
     "output_type": "execute_result"
    }
   ],
   "source": [
    "clf_tree = DecisionTreeClassifier( max_depth = 15, max_features=7 )\n",
    "clf_tree.fit( train_X, train_y )"
   ]
  },
  {
   "cell_type": "markdown",
   "metadata": {},
   "source": [
    "    Prediction Accuracy on Train Dataset"
   ]
  },
  {
   "cell_type": "code",
   "execution_count": 61,
   "metadata": {},
   "outputs": [],
   "source": [
    "tree_train_pred = pd.DataFrame( { 'actual':  train_y,\n",
    "                            'predicted': clf_tree.predict( train_X ) } )"
   ]
  },
  {
   "cell_type": "code",
   "execution_count": 62,
   "metadata": {},
   "outputs": [
    {
     "data": {
      "text/html": [
       "<div>\n",
       "<style>\n",
       "    .dataframe thead tr:only-child th {\n",
       "        text-align: right;\n",
       "    }\n",
       "\n",
       "    .dataframe thead th {\n",
       "        text-align: left;\n",
       "    }\n",
       "\n",
       "    .dataframe tbody tr th {\n",
       "        vertical-align: top;\n",
       "    }\n",
       "</style>\n",
       "<table border=\"1\" class=\"dataframe\">\n",
       "  <thead>\n",
       "    <tr style=\"text-align: right;\">\n",
       "      <th></th>\n",
       "      <th>actual</th>\n",
       "      <th>predicted</th>\n",
       "    </tr>\n",
       "  </thead>\n",
       "  <tbody>\n",
       "    <tr>\n",
       "      <th>9165</th>\n",
       "      <td>0</td>\n",
       "      <td>1</td>\n",
       "    </tr>\n",
       "    <tr>\n",
       "      <th>848</th>\n",
       "      <td>0</td>\n",
       "      <td>0</td>\n",
       "    </tr>\n",
       "    <tr>\n",
       "      <th>5308</th>\n",
       "      <td>1</td>\n",
       "      <td>1</td>\n",
       "    </tr>\n",
       "    <tr>\n",
       "      <th>2334</th>\n",
       "      <td>1</td>\n",
       "      <td>1</td>\n",
       "    </tr>\n",
       "    <tr>\n",
       "      <th>5934</th>\n",
       "      <td>1</td>\n",
       "      <td>1</td>\n",
       "    </tr>\n",
       "    <tr>\n",
       "      <th>4186</th>\n",
       "      <td>0</td>\n",
       "      <td>0</td>\n",
       "    </tr>\n",
       "    <tr>\n",
       "      <th>6323</th>\n",
       "      <td>0</td>\n",
       "      <td>0</td>\n",
       "    </tr>\n",
       "    <tr>\n",
       "      <th>2663</th>\n",
       "      <td>1</td>\n",
       "      <td>1</td>\n",
       "    </tr>\n",
       "    <tr>\n",
       "      <th>5868</th>\n",
       "      <td>0</td>\n",
       "      <td>0</td>\n",
       "    </tr>\n",
       "    <tr>\n",
       "      <th>9850</th>\n",
       "      <td>0</td>\n",
       "      <td>0</td>\n",
       "    </tr>\n",
       "  </tbody>\n",
       "</table>\n",
       "</div>"
      ],
      "text/plain": [
       "      actual  predicted\n",
       "9165       0          1\n",
       "848        0          0\n",
       "5308       1          1\n",
       "2334       1          1\n",
       "5934       1          1\n",
       "4186       0          0\n",
       "6323       0          0\n",
       "2663       1          1\n",
       "5868       0          0\n",
       "9850       0          0"
      ]
     },
     "execution_count": 62,
     "metadata": {},
     "output_type": "execute_result"
    }
   ],
   "source": [
    "tree_train_pred.sample( n = 10 )"
   ]
  },
  {
   "cell_type": "code",
   "execution_count": 63,
   "metadata": {},
   "outputs": [
    {
     "data": {
      "text/plain": [
       "0.97355919489936238"
      ]
     },
     "execution_count": 63,
     "metadata": {},
     "output_type": "execute_result"
    }
   ],
   "source": [
    "metrics.accuracy_score( tree_train_pred.actual, tree_train_pred.predicted )"
   ]
  },
  {
   "cell_type": "markdown",
   "metadata": {},
   "source": [
    "    Prediction Accuracy on Test Dataset"
   ]
  },
  {
   "cell_type": "code",
   "execution_count": 64,
   "metadata": {
    "collapsed": true
   },
   "outputs": [],
   "source": [
    "tree_test_pred = pd.DataFrame( { 'actual':  test_y,\n",
    "                            'predicted': clf_tree.predict( test_X ) } )"
   ]
  },
  {
   "cell_type": "code",
   "execution_count": 65,
   "metadata": {},
   "outputs": [
    {
     "data": {
      "text/html": [
       "<div>\n",
       "<style>\n",
       "    .dataframe thead tr:only-child th {\n",
       "        text-align: right;\n",
       "    }\n",
       "\n",
       "    .dataframe thead th {\n",
       "        text-align: left;\n",
       "    }\n",
       "\n",
       "    .dataframe tbody tr th {\n",
       "        vertical-align: top;\n",
       "    }\n",
       "</style>\n",
       "<table border=\"1\" class=\"dataframe\">\n",
       "  <thead>\n",
       "    <tr style=\"text-align: right;\">\n",
       "      <th></th>\n",
       "      <th>actual</th>\n",
       "      <th>predicted</th>\n",
       "    </tr>\n",
       "  </thead>\n",
       "  <tbody>\n",
       "    <tr>\n",
       "      <th>2045</th>\n",
       "      <td>0</td>\n",
       "      <td>0</td>\n",
       "    </tr>\n",
       "    <tr>\n",
       "      <th>3860</th>\n",
       "      <td>0</td>\n",
       "      <td>0</td>\n",
       "    </tr>\n",
       "    <tr>\n",
       "      <th>3352</th>\n",
       "      <td>0</td>\n",
       "      <td>0</td>\n",
       "    </tr>\n",
       "    <tr>\n",
       "      <th>820</th>\n",
       "      <td>1</td>\n",
       "      <td>1</td>\n",
       "    </tr>\n",
       "    <tr>\n",
       "      <th>1624</th>\n",
       "      <td>1</td>\n",
       "      <td>1</td>\n",
       "    </tr>\n",
       "    <tr>\n",
       "      <th>1731</th>\n",
       "      <td>0</td>\n",
       "      <td>1</td>\n",
       "    </tr>\n",
       "    <tr>\n",
       "      <th>4410</th>\n",
       "      <td>0</td>\n",
       "      <td>0</td>\n",
       "    </tr>\n",
       "    <tr>\n",
       "      <th>109</th>\n",
       "      <td>1</td>\n",
       "      <td>1</td>\n",
       "    </tr>\n",
       "    <tr>\n",
       "      <th>3519</th>\n",
       "      <td>1</td>\n",
       "      <td>1</td>\n",
       "    </tr>\n",
       "    <tr>\n",
       "      <th>1272</th>\n",
       "      <td>0</td>\n",
       "      <td>0</td>\n",
       "    </tr>\n",
       "  </tbody>\n",
       "</table>\n",
       "</div>"
      ],
      "text/plain": [
       "      actual  predicted\n",
       "2045       0          0\n",
       "3860       0          0\n",
       "3352       0          0\n",
       "820        1          1\n",
       "1624       1          1\n",
       "1731       0          1\n",
       "4410       0          0\n",
       "109        1          1\n",
       "3519       1          1\n",
       "1272       0          0"
      ]
     },
     "execution_count": 65,
     "metadata": {},
     "output_type": "execute_result"
    }
   ],
   "source": [
    "tree_test_pred.sample( n = 10 )"
   ]
  },
  {
   "cell_type": "code",
   "execution_count": 66,
   "metadata": {},
   "outputs": [
    {
     "data": {
      "text/plain": [
       "0.93149999999999999"
      ]
     },
     "execution_count": 66,
     "metadata": {},
     "output_type": "execute_result"
    }
   ],
   "source": [
    "metrics.accuracy_score( tree_test_pred.actual, tree_test_pred.predicted )"
   ]
  },
  {
   "cell_type": "code",
   "execution_count": 68,
   "metadata": {},
   "outputs": [
    {
     "data": {
      "text/plain": [
       "Text(0.5,15,u'Predicted label')"
      ]
     },
     "execution_count": 68,
     "metadata": {},
     "output_type": "execute_result"
    },
    {
     "data": {
      "image/png": "[encoded data removed]",
      "text/plain": [
       "<matplotlib.figure.Figure at 0x11bbbfd0>"
      ]
     },
     "metadata": {},
     "output_type": "display_data"
    }
   ],
   "source": [
    "tree_cm = metrics.confusion_matrix( tree_test_pred.predicted,\n",
    "                                 tree_test_pred.actual,\n",
    "                                 [1,0] )\n",
    "sn.heatmap(tree_cm, annot=True,\n",
    "         fmt='.2f',\n",
    "         xticklabels = [\"Churn\", \"No Churn\"] , yticklabels = [\"Churn\", \"No Churn\"] )\n",
    "\n",
    "plt.ylabel('True label')\n",
    "plt.xlabel('Predicted label')"
   ]
  },
  {
   "cell_type": "markdown",
   "metadata": {},
   "source": [
    "    We get a train accuracy of 97% and test accuracy of 93%"
   ]
  },
  {
   "cell_type": "markdown",
   "metadata": {},
   "source": [
    "### BUILDING RANDOM FOREST MODEL"
   ]
  },
  {
   "cell_type": "code",
   "execution_count": 188,
   "metadata": {
    "collapsed": true
   },
   "outputs": [],
   "source": [
    "from sklearn.ensemble import RandomForestClassifier"
   ]
  },
  {
   "cell_type": "code",
   "execution_count": 189,
   "metadata": {},
   "outputs": [
    {
     "data": {
      "text/plain": [
       "RandomForestClassifier(bootstrap=True, class_weight=None, criterion='gini',\n",
       "            max_depth=15, max_features=7, max_leaf_nodes=None,\n",
       "            min_impurity_decrease=0.0, min_impurity_split=None,\n",
       "            min_samples_leaf=1, min_samples_split=2,\n",
       "            min_weight_fraction_leaf=0.0, n_estimators=30, n_jobs=1,\n",
       "            oob_score=True, random_state=None, verbose=0, warm_start=False)"
      ]
     },
     "execution_count": 189,
     "metadata": {},
     "output_type": "execute_result"
    }
   ],
   "source": [
    "radm_clf = RandomForestClassifier(oob_score=True,n_estimators=30,max_depth = 15, max_features=7 )\n",
    "radm_clf.fit( train_X, train_y )"
   ]
  },
  {
   "cell_type": "code",
   "execution_count": 190,
   "metadata": {
    "collapsed": true
   },
   "outputs": [],
   "source": [
    "radm_train_pred = pd.DataFrame( { 'actual':  train_y,\n",
    "                            'predicted': radm_clf.predict( train_X ) } )"
   ]
  },
  {
   "cell_type": "code",
   "execution_count": 191,
   "metadata": {},
   "outputs": [
    {
     "data": {
      "text/plain": [
       "0.98574821852731587"
      ]
     },
     "execution_count": 191,
     "metadata": {},
     "output_type": "execute_result"
    }
   ],
   "source": [
    "metrics.accuracy_score( radm_train_pred.actual, radm_train_pred.predicted )"
   ]
  },
  {
   "cell_type": "code",
   "execution_count": 192,
   "metadata": {},
   "outputs": [
    {
     "data": {
      "text/plain": [
       "Text(0.5,15,u'Predicted label')"
      ]
     },
     "execution_count": 192,
     "metadata": {},
     "output_type": "execute_result"
    },
    {
     "data": {
      "image/png": "[encoded data removed]",
      "text/plain": [
       "<matplotlib.figure.Figure at 0x12f50e10>"
      ]
     },
     "metadata": {},
     "output_type": "display_data"
    }
   ],
   "source": [
    "tree_cm_tr = metrics.confusion_matrix( radm_train_pred.predicted,\n",
    "                                 radm_train_pred.actual,\n",
    "                                 [1,0] )\n",
    "sn.heatmap(tree_cm_tr, annot=True,\n",
    "         fmt='.2f',\n",
    "         xticklabels = [\"Churn\", \"Not Churn\"] , yticklabels = [\"Churn\", \"Not Churn\"] )\n",
    "\n",
    "plt.ylabel('True label')\n",
    "plt.xlabel('Predicted label')"
   ]
  },
  {
   "cell_type": "code",
   "execution_count": 193,
   "metadata": {
    "collapsed": true
   },
   "outputs": [],
   "source": [
    "radm_test_pred = pd.DataFrame( { 'actual':  test_y,\n",
    "                            'predicted': radm_clf.predict( test_X ) } )"
   ]
  },
  {
   "cell_type": "code",
   "execution_count": 194,
   "metadata": {},
   "outputs": [
    {
     "data": {
      "text/plain": [
       "0.95825000000000005"
      ]
     },
     "execution_count": 194,
     "metadata": {},
     "output_type": "execute_result"
    }
   ],
   "source": [
    "metrics.accuracy_score( radm_test_pred.actual, radm_test_pred.predicted )"
   ]
  },
  {
   "cell_type": "code",
   "execution_count": 195,
   "metadata": {},
   "outputs": [
    {
     "data": {
      "text/plain": [
       "Text(0.5,15,u'Predicted label')"
      ]
     },
     "execution_count": 195,
     "metadata": {},
     "output_type": "execute_result"
    },
    {
     "data": {
      "image/png": "[encoded data removed]",
      "text/plain": [
       "<matplotlib.figure.Figure at 0x130c4f60>"
      ]
     },
     "metadata": {},
     "output_type": "display_data"
    }
   ],
   "source": [
    "tree_cm = metrics.confusion_matrix( radm_test_pred.predicted,\n",
    "                                 radm_test_pred.actual,\n",
    "                                 [1,0] )\n",
    "sn.heatmap(tree_cm, annot=True,\n",
    "         fmt='.2f',\n",
    "         xticklabels = [\"Churn\", \"Not Churn\"] , yticklabels = [\"Churn\", \"Not Churn\"] )\n",
    "\n",
    "plt.ylabel('True label')\n",
    "plt.xlabel('Predicted label')"
   ]
  },
  {
   "cell_type": "markdown",
   "metadata": {},
   "source": [
    "    We get a train accuracy of 98% and test accuracy of 96%"
   ]
  },
  {
   "cell_type": "markdown",
   "metadata": {},
   "source": [
    "### USING RANDOM FOREST MODEL TO GET THE PROBABILITY OF CHURN FOR ACTIVE CUSTOMERS"
   ]
  },
  {
   "cell_type": "markdown",
   "metadata": {},
   "source": [
    "    ENCODING THE ACTIVE CUSTOMERS (df_telecom_active)"
   ]
  },
  {
   "cell_type": "code",
   "execution_count": 196,
   "metadata": {
    "collapsed": true
   },
   "outputs": [],
   "source": [
    "telecom_active['SALES_CHANNEL_EN'] = encoder.fit_transform(telecom_active['SALES_CHANNEL'])\n",
    "telecom_active['DIRECT_INDIRECT_CHANNEL_EN'] = encoder.fit_transform(telecom_active['DIRECT_INDIRECT_CHANNEL'])\n",
    "telecom_active['FEEDBACK_EN'] = encoder.fit_transform(telecom_active['FEEDBACK'])\n",
    "telecom_active['SITE_TYPE_DESC_EN'] = encoder.fit_transform(telecom_active['SITE_TYPE_DESC'])\n",
    "telecom_active['INCOME_EN'] = encoder.fit_transform(telecom_active['INCOME'])\n",
    "telecom_active['COMPUTER_OWNER_EN'] = encoder.fit_transform(telecom_active['COMPUTER_OWNER'])\n",
    "telecom_active['SERVICE_PLAN_CAT_EN'] = encoder.fit_transform(telecom_active['SERVICE_PLAN_CAT'])\n",
    "telecom_active['MODEL_CAT_EN'] = encoder.fit_transform(telecom_active['MODEL_CAT'])\n",
    "telecom_active['MOST_RECENT_SALES_CHANNEL_CAT_EN'] = encoder.fit_transform(telecom_active['MOST_RECENT_SALES_CHANNEL_CAT'])\n",
    "telecom_active['SATELLITE_CAT_EN'] = encoder.fit_transform(telecom_active['SATELLITE_CAT'])\n",
    "telecom_active['WARRANTY_NAME_CAT_EN'] = encoder.fit_transform(telecom_active['WARRANTY_NAME_CAT'])"
   ]
  },
  {
   "cell_type": "code",
   "execution_count": 197,
   "metadata": {
    "collapsed": true
   },
   "outputs": [],
   "source": [
    "df_telecom_active = telecom_active.select_dtypes(include=['int64']).copy()"
   ]
  },
  {
   "cell_type": "code",
   "execution_count": 198,
   "metadata": {
    "collapsed": true
   },
   "outputs": [],
   "source": [
    "df_test  = df_telecom_active.copy()"
   ]
  },
  {
   "cell_type": "code",
   "execution_count": 199,
   "metadata": {},
   "outputs": [
    {
     "data": {
      "text/html": [
       "<div>\n",
       "<style>\n",
       "    .dataframe thead tr:only-child th {\n",
       "        text-align: right;\n",
       "    }\n",
       "\n",
       "    .dataframe thead th {\n",
       "        text-align: left;\n",
       "    }\n",
       "\n",
       "    .dataframe tbody tr th {\n",
       "        vertical-align: top;\n",
       "    }\n",
       "</style>\n",
       "<table border=\"1\" class=\"dataframe\">\n",
       "  <thead>\n",
       "    <tr style=\"text-align: right;\">\n",
       "      <th></th>\n",
       "      <th>GENDER</th>\n",
       "      <th>AGE</th>\n",
       "      <th>MARITAL_STATUS</th>\n",
       "      <th>PRESENCE_OF_CHILDREN</th>\n",
       "      <th>CHURN_IND</th>\n",
       "      <th>UPGRADE_IND</th>\n",
       "      <th>SALES_CHANNEL_EN</th>\n",
       "      <th>DIRECT_INDIRECT_CHANNEL_EN</th>\n",
       "      <th>FEEDBACK_EN</th>\n",
       "      <th>SITE_TYPE_DESC_EN</th>\n",
       "      <th>INCOME_EN</th>\n",
       "      <th>COMPUTER_OWNER_EN</th>\n",
       "      <th>SERVICE_PLAN_CAT_EN</th>\n",
       "      <th>MODEL_CAT_EN</th>\n",
       "      <th>MOST_RECENT_SALES_CHANNEL_CAT_EN</th>\n",
       "      <th>SATELLITE_CAT_EN</th>\n",
       "      <th>WARRANTY_NAME_CAT_EN</th>\n",
       "    </tr>\n",
       "  </thead>\n",
       "  <tbody>\n",
       "    <tr>\n",
       "      <th>0</th>\n",
       "      <td>2</td>\n",
       "      <td>69</td>\n",
       "      <td>1</td>\n",
       "      <td>0</td>\n",
       "      <td>0</td>\n",
       "      <td>1</td>\n",
       "      <td>4</td>\n",
       "      <td>1</td>\n",
       "      <td>2</td>\n",
       "      <td>1</td>\n",
       "      <td>0</td>\n",
       "      <td>0</td>\n",
       "      <td>4</td>\n",
       "      <td>5</td>\n",
       "      <td>8</td>\n",
       "      <td>11</td>\n",
       "      <td>6</td>\n",
       "    </tr>\n",
       "    <tr>\n",
       "      <th>1</th>\n",
       "      <td>2</td>\n",
       "      <td>43</td>\n",
       "      <td>1</td>\n",
       "      <td>0</td>\n",
       "      <td>0</td>\n",
       "      <td>1</td>\n",
       "      <td>3</td>\n",
       "      <td>1</td>\n",
       "      <td>1</td>\n",
       "      <td>2</td>\n",
       "      <td>4</td>\n",
       "      <td>0</td>\n",
       "      <td>6</td>\n",
       "      <td>4</td>\n",
       "      <td>12</td>\n",
       "      <td>5</td>\n",
       "      <td>6</td>\n",
       "    </tr>\n",
       "    <tr>\n",
       "      <th>2</th>\n",
       "      <td>2</td>\n",
       "      <td>58</td>\n",
       "      <td>1</td>\n",
       "      <td>0</td>\n",
       "      <td>0</td>\n",
       "      <td>1</td>\n",
       "      <td>0</td>\n",
       "      <td>1</td>\n",
       "      <td>0</td>\n",
       "      <td>1</td>\n",
       "      <td>4</td>\n",
       "      <td>0</td>\n",
       "      <td>5</td>\n",
       "      <td>5</td>\n",
       "      <td>11</td>\n",
       "      <td>8</td>\n",
       "      <td>6</td>\n",
       "    </tr>\n",
       "    <tr>\n",
       "      <th>3</th>\n",
       "      <td>9</td>\n",
       "      <td>22</td>\n",
       "      <td>1</td>\n",
       "      <td>1</td>\n",
       "      <td>0</td>\n",
       "      <td>1</td>\n",
       "      <td>3</td>\n",
       "      <td>0</td>\n",
       "      <td>2</td>\n",
       "      <td>2</td>\n",
       "      <td>6</td>\n",
       "      <td>1</td>\n",
       "      <td>5</td>\n",
       "      <td>2</td>\n",
       "      <td>7</td>\n",
       "      <td>11</td>\n",
       "      <td>6</td>\n",
       "    </tr>\n",
       "    <tr>\n",
       "      <th>4</th>\n",
       "      <td>1</td>\n",
       "      <td>36</td>\n",
       "      <td>0</td>\n",
       "      <td>0</td>\n",
       "      <td>0</td>\n",
       "      <td>1</td>\n",
       "      <td>0</td>\n",
       "      <td>1</td>\n",
       "      <td>1</td>\n",
       "      <td>1</td>\n",
       "      <td>7</td>\n",
       "      <td>1</td>\n",
       "      <td>3</td>\n",
       "      <td>4</td>\n",
       "      <td>3</td>\n",
       "      <td>6</td>\n",
       "      <td>6</td>\n",
       "    </tr>\n",
       "  </tbody>\n",
       "</table>\n",
       "</div>"
      ],
      "text/plain": [
       "   GENDER  AGE  MARITAL_STATUS  PRESENCE_OF_CHILDREN  CHURN_IND  UPGRADE_IND  \\\n",
       "0       2   69               1                     0          0            1   \n",
       "1       2   43               1                     0          0            1   \n",
       "2       2   58               1                     0          0            1   \n",
       "3       9   22               1                     1          0            1   \n",
       "4       1   36               0                     0          0            1   \n",
       "\n",
       "   SALES_CHANNEL_EN  DIRECT_INDIRECT_CHANNEL_EN  FEEDBACK_EN  \\\n",
       "0                 4                           1            2   \n",
       "1                 3                           1            1   \n",
       "2                 0                           1            0   \n",
       "3                 3                           0            2   \n",
       "4                 0                           1            1   \n",
       "\n",
       "   SITE_TYPE_DESC_EN  INCOME_EN  COMPUTER_OWNER_EN  SERVICE_PLAN_CAT_EN  \\\n",
       "0                  1          0                  0                    4   \n",
       "1                  2          4                  0                    6   \n",
       "2                  1          4                  0                    5   \n",
       "3                  2          6                  1                    5   \n",
       "4                  1          7                  1                    3   \n",
       "\n",
       "   MODEL_CAT_EN  MOST_RECENT_SALES_CHANNEL_CAT_EN  SATELLITE_CAT_EN  \\\n",
       "0             5                                 8                11   \n",
       "1             4                                12                 5   \n",
       "2             5                                11                 8   \n",
       "3             2                                 7                11   \n",
       "4             4                                 3                 6   \n",
       "\n",
       "   WARRANTY_NAME_CAT_EN  \n",
       "0                     6  \n",
       "1                     6  \n",
       "2                     6  \n",
       "3                     6  \n",
       "4                     6  "
      ]
     },
     "execution_count": 199,
     "metadata": {},
     "output_type": "execute_result"
    }
   ],
   "source": [
    "df_test.head()"
   ]
  },
  {
   "cell_type": "code",
   "execution_count": 200,
   "metadata": {},
   "outputs": [
    {
     "name": "stdout",
     "output_type": "stream",
     "text": [
      "<class 'pandas.core.frame.DataFrame'>\n",
      "RangeIndex: 9998 entries, 0 to 9997\n",
      "Data columns (total 17 columns):\n",
      "GENDER                              9998 non-null int64\n",
      "AGE                                 9998 non-null int64\n",
      "MARITAL_STATUS                      9998 non-null int64\n",
      "PRESENCE_OF_CHILDREN                9998 non-null int64\n",
      "CHURN_IND                           9998 non-null int64\n",
      "UPGRADE_IND                         9998 non-null int64\n",
      "SALES_CHANNEL_EN                    9998 non-null int64\n",
      "DIRECT_INDIRECT_CHANNEL_EN          9998 non-null int64\n",
      "FEEDBACK_EN                         9998 non-null int64\n",
      "SITE_TYPE_DESC_EN                   9998 non-null int64\n",
      "INCOME_EN                           9998 non-null int64\n",
      "COMPUTER_OWNER_EN                   9998 non-null int64\n",
      "SERVICE_PLAN_CAT_EN                 9998 non-null int64\n",
      "MODEL_CAT_EN                        9998 non-null int64\n",
      "MOST_RECENT_SALES_CHANNEL_CAT_EN    9998 non-null int64\n",
      "SATELLITE_CAT_EN                    9998 non-null int64\n",
      "WARRANTY_NAME_CAT_EN                9998 non-null int64\n",
      "dtypes: int64(17)\n",
      "memory usage: 1.3 MB\n"
     ]
    }
   ],
   "source": [
    "df_test.info()"
   ]
  },
  {
   "cell_type": "code",
   "execution_count": 201,
   "metadata": {
    "collapsed": true
   },
   "outputs": [],
   "source": [
    "features = train_X.columns"
   ]
  },
  {
   "cell_type": "markdown",
   "metadata": {},
   "source": [
    "    Make predictions on test (active) dataset - to get the churn probabilities of active customers\n",
    "    - Accuracy 93%"
   ]
  },
  {
   "cell_type": "code",
   "execution_count": 202,
   "metadata": {},
   "outputs": [
    {
     "data": {
      "text/plain": [
       "array([0, 0, 0, ..., 0, 0, 0], dtype=int64)"
      ]
     },
     "metadata": {},
     "output_type": "display_data"
    }
   ],
   "source": [
    "predictions = radm_clf.predict(df_test[features])\n",
    "probs = radm_clf.predict_proba(df_test[features])\n",
    "display(predictions)"
   ]
  },
  {
   "cell_type": "code",
   "execution_count": 203,
   "metadata": {},
   "outputs": [
    {
     "name": "stdout",
     "output_type": "stream",
     "text": [
      "('Accuracy: ', 0.93108621724344864)\n"
     ]
    }
   ],
   "source": [
    "score = clf.score(df_test[features], df_test[\"CHURN_IND\"])\n",
    "print(\"Accuracy: \", score)"
   ]
  },
  {
   "cell_type": "code",
   "execution_count": 204,
   "metadata": {
    "collapsed": true
   },
   "outputs": [],
   "source": [
    "df_test[\"prob_true\"] = probs[:, 1]"
   ]
  },
  {
   "cell_type": "markdown",
   "metadata": {},
   "source": [
    "Taking out the PROBABILITY COLUMN and adding to the main dataset"
   ]
  },
  {
   "cell_type": "code",
   "execution_count": 205,
   "metadata": {
    "collapsed": true
   },
   "outputs": [],
   "source": [
    "df_prob = df_test[\"prob_true\"]"
   ]
  },
  {
   "cell_type": "code",
   "execution_count": 206,
   "metadata": {},
   "outputs": [
    {
     "data": {
      "text/plain": [
       "0    0.487598\n",
       "1    0.215775\n",
       "2    0.034921\n",
       "3    0.500000\n",
       "4    0.065662\n",
       "Name: prob_true, dtype: float64"
      ]
     },
     "execution_count": 206,
     "metadata": {},
     "output_type": "execute_result"
    }
   ],
   "source": [
    "df_prob.head()"
   ]
  },
  {
   "cell_type": "markdown",
   "metadata": {},
   "source": [
    "    Adding the raw data with the churn prob (prob of true)"
   ]
  },
  {
   "cell_type": "code",
   "execution_count": 261,
   "metadata": {
    "collapsed": true
   },
   "outputs": [],
   "source": [
    "telecom_active_raw = pd.read_csv(\"telecom_active.csv\")"
   ]
  },
  {
   "cell_type": "code",
   "execution_count": 262,
   "metadata": {
    "collapsed": true
   },
   "outputs": [],
   "source": [
    "df_telecom = pd.concat([telecom_active_raw, df_prob], axis=1)"
   ]
  },
  {
   "cell_type": "code",
   "execution_count": 263,
   "metadata": {},
   "outputs": [
    {
     "data": {
      "text/html": [
       "<div>\n",
       "<style>\n",
       "    .dataframe thead tr:only-child th {\n",
       "        text-align: right;\n",
       "    }\n",
       "\n",
       "    .dataframe thead th {\n",
       "        text-align: left;\n",
       "    }\n",
       "\n",
       "    .dataframe tbody tr th {\n",
       "        vertical-align: top;\n",
       "    }\n",
       "</style>\n",
       "<table border=\"1\" class=\"dataframe\">\n",
       "  <thead>\n",
       "    <tr style=\"text-align: right;\">\n",
       "      <th></th>\n",
       "      <th>SITE_ACCOUNT_NUMBER</th>\n",
       "      <th>ACCOUNT_STATUS</th>\n",
       "      <th>FIRST_COMMUNICATION_DATE</th>\n",
       "      <th>UPGRADE_DATE</th>\n",
       "      <th>SERVICE_ PLAN</th>\n",
       "      <th>MODEL</th>\n",
       "      <th>SALES_CHANNEL</th>\n",
       "      <th>DIRECT_INDIRECT_CHANNEL</th>\n",
       "      <th>SALES_SOURCE</th>\n",
       "      <th>COMPANY_SOURCE_NAME</th>\n",
       "      <th>...</th>\n",
       "      <th>WARRANTY_NAME</th>\n",
       "      <th>MOST_RECENT_SALES_CHANNEL</th>\n",
       "      <th>GENDER</th>\n",
       "      <th>DATE_OF_BIRTH</th>\n",
       "      <th>AGE</th>\n",
       "      <th>INCOME</th>\n",
       "      <th>MARITAL_STATUS</th>\n",
       "      <th>PRESENCE_OF_CHILDREN</th>\n",
       "      <th>COMPUTER_OWNER</th>\n",
       "      <th>prob_true</th>\n",
       "    </tr>\n",
       "  </thead>\n",
       "  <tbody>\n",
       "    <tr>\n",
       "      <th>0</th>\n",
       "      <td>AMR-11112345</td>\n",
       "      <td>Active</td>\n",
       "      <td>27-11-2001</td>\n",
       "      <td>14-12-2003</td>\n",
       "      <td>NaN</td>\n",
       "      <td>HN9000</td>\n",
       "      <td>Vars</td>\n",
       "      <td>Indirect</td>\n",
       "      <td>UNKNOWN</td>\n",
       "      <td>HNS Customers</td>\n",
       "      <td>...</td>\n",
       "      <td>NaN</td>\n",
       "      <td>HN7000 Upgrade</td>\n",
       "      <td>2.0</td>\n",
       "      <td>01-05-1943</td>\n",
       "      <td>69</td>\n",
       "      <td>0</td>\n",
       "      <td>1</td>\n",
       "      <td>0</td>\n",
       "      <td>N</td>\n",
       "      <td>0.487598</td>\n",
       "    </tr>\n",
       "    <tr>\n",
       "      <th>1</th>\n",
       "      <td>AMR-14837287</td>\n",
       "      <td>Active</td>\n",
       "      <td>02-05-2003</td>\n",
       "      <td>08-08-2006</td>\n",
       "      <td>Pro</td>\n",
       "      <td>HN7000S</td>\n",
       "      <td>Sales Agents</td>\n",
       "      <td>Indirect</td>\n",
       "      <td>NCC</td>\n",
       "      <td>HNS Customers</td>\n",
       "      <td>...</td>\n",
       "      <td>NaN</td>\n",
       "      <td>Retail</td>\n",
       "      <td>2.0</td>\n",
       "      <td>28-12-1969</td>\n",
       "      <td>43</td>\n",
       "      <td>4</td>\n",
       "      <td>1</td>\n",
       "      <td>0</td>\n",
       "      <td>N</td>\n",
       "      <td>0.215775</td>\n",
       "    </tr>\n",
       "    <tr>\n",
       "      <th>2</th>\n",
       "      <td>AMR-14837803</td>\n",
       "      <td>Active</td>\n",
       "      <td>28-01-2001</td>\n",
       "      <td>17-03-2004</td>\n",
       "      <td>Power150</td>\n",
       "      <td>HN9000</td>\n",
       "      <td>Call Center</td>\n",
       "      <td>Indirect</td>\n",
       "      <td>NCC</td>\n",
       "      <td>HNS Customers</td>\n",
       "      <td>...</td>\n",
       "      <td>NaN</td>\n",
       "      <td>National Sales</td>\n",
       "      <td>2.0</td>\n",
       "      <td>20-07-1954</td>\n",
       "      <td>58</td>\n",
       "      <td>4</td>\n",
       "      <td>1</td>\n",
       "      <td>0</td>\n",
       "      <td>N</td>\n",
       "      <td>0.034921</td>\n",
       "    </tr>\n",
       "    <tr>\n",
       "      <th>3</th>\n",
       "      <td>AMR-14837821</td>\n",
       "      <td>Active</td>\n",
       "      <td>20-11-2001</td>\n",
       "      <td>27-03-2005</td>\n",
       "      <td>Power150</td>\n",
       "      <td>DW6000</td>\n",
       "      <td>Sales Agents</td>\n",
       "      <td>Direct</td>\n",
       "      <td>NaN</td>\n",
       "      <td>HNS Customers</td>\n",
       "      <td>...</td>\n",
       "      <td>NaN</td>\n",
       "      <td>Direct</td>\n",
       "      <td>NaN</td>\n",
       "      <td>10-05-1990</td>\n",
       "      <td>22</td>\n",
       "      <td>6</td>\n",
       "      <td>1</td>\n",
       "      <td>1</td>\n",
       "      <td>NaN</td>\n",
       "      <td>0.500000</td>\n",
       "    </tr>\n",
       "    <tr>\n",
       "      <th>4</th>\n",
       "      <td>AMR-14839297</td>\n",
       "      <td>Active</td>\n",
       "      <td>27-02-2002</td>\n",
       "      <td>14-06-2004</td>\n",
       "      <td>Home</td>\n",
       "      <td>HN7000S</td>\n",
       "      <td>Call Center</td>\n",
       "      <td>Indirect</td>\n",
       "      <td>TAG</td>\n",
       "      <td>HNS Customers</td>\n",
       "      <td>...</td>\n",
       "      <td>NaN</td>\n",
       "      <td>DW6000 Upgrade</td>\n",
       "      <td>1.0</td>\n",
       "      <td>11-05-1976</td>\n",
       "      <td>36</td>\n",
       "      <td>7</td>\n",
       "      <td>0</td>\n",
       "      <td>0</td>\n",
       "      <td>NaN</td>\n",
       "      <td>0.065662</td>\n",
       "    </tr>\n",
       "  </tbody>\n",
       "</table>\n",
       "<p>5 rows × 30 columns</p>\n",
       "</div>"
      ],
      "text/plain": [
       "  SITE_ACCOUNT_NUMBER ACCOUNT_STATUS FIRST_COMMUNICATION_DATE UPGRADE_DATE  \\\n",
       "0        AMR-11112345         Active               27-11-2001   14-12-2003   \n",
       "1        AMR-14837287         Active               02-05-2003   08-08-2006   \n",
       "2        AMR-14837803         Active               28-01-2001   17-03-2004   \n",
       "3        AMR-14837821         Active               20-11-2001   27-03-2005   \n",
       "4        AMR-14839297         Active               27-02-2002   14-06-2004   \n",
       "\n",
       "  SERVICE_ PLAN    MODEL SALES_CHANNEL DIRECT_INDIRECT_CHANNEL SALES_SOURCE  \\\n",
       "0           NaN   HN9000          Vars                Indirect      UNKNOWN   \n",
       "1           Pro  HN7000S  Sales Agents                Indirect          NCC   \n",
       "2      Power150   HN9000   Call Center                Indirect          NCC   \n",
       "3      Power150   DW6000  Sales Agents                  Direct          NaN   \n",
       "4          Home  HN7000S   Call Center                Indirect          TAG   \n",
       "\n",
       "  COMPANY_SOURCE_NAME    ...    WARRANTY_NAME MOST_RECENT_SALES_CHANNEL  \\\n",
       "0       HNS Customers    ...              NaN            HN7000 Upgrade   \n",
       "1       HNS Customers    ...              NaN             Retail          \n",
       "2       HNS Customers    ...              NaN            National Sales   \n",
       "3       HNS Customers    ...              NaN                    Direct   \n",
       "4       HNS Customers    ...              NaN            DW6000 Upgrade   \n",
       "\n",
       "  GENDER DATE_OF_BIRTH AGE INCOME MARITAL_STATUS PRESENCE_OF_CHILDREN  \\\n",
       "0    2.0    01-05-1943  69      0              1                    0   \n",
       "1    2.0    28-12-1969  43      4              1                    0   \n",
       "2    2.0    20-07-1954  58      4              1                    0   \n",
       "3    NaN    10-05-1990  22      6              1                    1   \n",
       "4    1.0    11-05-1976  36      7              0                    0   \n",
       "\n",
       "  COMPUTER_OWNER prob_true  \n",
       "0              N  0.487598  \n",
       "1              N  0.215775  \n",
       "2              N  0.034921  \n",
       "3            NaN  0.500000  \n",
       "4            NaN  0.065662  \n",
       "\n",
       "[5 rows x 30 columns]"
      ]
     },
     "execution_count": 263,
     "metadata": {},
     "output_type": "execute_result"
    }
   ],
   "source": [
    "df_telecom.head()"
   ]
  },
  {
   "attachments": {
    "image.png": {
     "image/png": "[encoded data removed]"
    }
   },
   "cell_type": "markdown",
   "metadata": {},
   "source": [
    "#### CHURN SEGMENTATION -\n",
    "    0 - 0.3   - LOW CHURN PROBABILITY\n",
    "    0.3 - 0.7 - MEDIUM CHURN PROBABILITY\n",
    "    0.7 - 1   - HIGH CHURN PROBABILITY\n",
    "   ![image.png](attachment:image.png)"
   ]
  },
  {
   "cell_type": "code",
   "execution_count": 264,
   "metadata": {
    "collapsed": true
   },
   "outputs": [],
   "source": [
    "def churntyp(df_telecom):\n",
    "    if ((df_telecom.prob_true  >= 0.0) & (df_telecom.prob_true <= 0.3)):\n",
    "        return 'LOW_CHURN_PROBABILITY'\n",
    "    elif ((df_telecom.prob_true  > 0.3) & (df_telecom.prob_true <= 0.7)):\n",
    "        return 'MED_CHURN_PROBABILITY'\n",
    "    else:\n",
    "        return 'HIGH_CHURN_PROBABILITY'"
   ]
  },
  {
   "cell_type": "code",
   "execution_count": 265,
   "metadata": {},
   "outputs": [],
   "source": [
    "df_telecom['CHURN_BAND'] = df_telecom.apply(churntyp, axis=1)"
   ]
  },
  {
   "cell_type": "code",
   "execution_count": 266,
   "metadata": {
    "collapsed": true
   },
   "outputs": [],
   "source": [
    "df_telecom.to_csv(\"TELECOM_ACTIVE_CUSTOMER_WITH_PROB.csv\")"
   ]
  },
  {
   "cell_type": "code",
   "execution_count": 267,
   "metadata": {},
   "outputs": [
    {
     "data": {
      "text/html": [
       "<div>\n",
       "<style>\n",
       "    .dataframe thead tr:only-child th {\n",
       "        text-align: right;\n",
       "    }\n",
       "\n",
       "    .dataframe thead th {\n",
       "        text-align: left;\n",
       "    }\n",
       "\n",
       "    .dataframe tbody tr th {\n",
       "        vertical-align: top;\n",
       "    }\n",
       "</style>\n",
       "<table border=\"1\" class=\"dataframe\">\n",
       "  <thead>\n",
       "    <tr style=\"text-align: right;\">\n",
       "      <th></th>\n",
       "      <th>SITE_ACCOUNT_NUMBER</th>\n",
       "    </tr>\n",
       "    <tr>\n",
       "      <th>CHURN_BAND</th>\n",
       "      <th></th>\n",
       "    </tr>\n",
       "  </thead>\n",
       "  <tbody>\n",
       "    <tr>\n",
       "      <th>HIGH_CHURN_PROBABILITY</th>\n",
       "      <td>321</td>\n",
       "    </tr>\n",
       "    <tr>\n",
       "      <th>LOW_CHURN_PROBABILITY</th>\n",
       "      <td>7351</td>\n",
       "    </tr>\n",
       "    <tr>\n",
       "      <th>MED_CHURN_PROBABILITY</th>\n",
       "      <td>2326</td>\n",
       "    </tr>\n",
       "  </tbody>\n",
       "</table>\n",
       "</div>"
      ],
      "text/plain": [
       "                        SITE_ACCOUNT_NUMBER\n",
       "CHURN_BAND                                 \n",
       "HIGH_CHURN_PROBABILITY                  321\n",
       "LOW_CHURN_PROBABILITY                  7351\n",
       "MED_CHURN_PROBABILITY                  2326"
      ]
     },
     "execution_count": 267,
     "metadata": {},
     "output_type": "execute_result"
    }
   ],
   "source": [
    "pd.pivot_table(df_telecom,index=[\"CHURN_BAND\"],values=[\"SITE_ACCOUNT_NUMBER\"],aggfunc='count')"
   ]
  },
  {
   "cell_type": "markdown",
   "metadata": {},
   "source": [
    "### Feature importance from the Random Forest Model"
   ]
  },
  {
   "cell_type": "code",
   "execution_count": 216,
   "metadata": {
    "collapsed": true
   },
   "outputs": [],
   "source": [
    "indices = np.argsort(radm_clf.feature_importances_)[::-1]"
   ]
  },
  {
   "cell_type": "markdown",
   "metadata": {},
   "source": [
    "<b> Note: </b>\n",
    "As per the model, the most important features which influence whether the subscriber will CHURN,in descending order, are"
   ]
  },
  {
   "cell_type": "code",
   "execution_count": 217,
   "metadata": {},
   "outputs": [
    {
     "data": {
      "text/html": [
       "<div>\n",
       "<style>\n",
       "    .dataframe thead tr:only-child th {\n",
       "        text-align: right;\n",
       "    }\n",
       "\n",
       "    .dataframe thead th {\n",
       "        text-align: left;\n",
       "    }\n",
       "\n",
       "    .dataframe tbody tr th {\n",
       "        vertical-align: top;\n",
       "    }\n",
       "</style>\n",
       "<table border=\"1\" class=\"dataframe\">\n",
       "  <thead>\n",
       "    <tr style=\"text-align: right;\">\n",
       "      <th></th>\n",
       "      <th>importance</th>\n",
       "      <th>labels</th>\n",
       "    </tr>\n",
       "  </thead>\n",
       "  <tbody>\n",
       "    <tr>\n",
       "      <th>8</th>\n",
       "      <td>0.185079</td>\n",
       "      <td>MOST_RECENT_SALES_CHANNEL_CAT_EN</td>\n",
       "    </tr>\n",
       "    <tr>\n",
       "      <th>6</th>\n",
       "      <td>0.144112</td>\n",
       "      <td>MARITAL_STATUS</td>\n",
       "    </tr>\n",
       "    <tr>\n",
       "      <th>13</th>\n",
       "      <td>0.122697</td>\n",
       "      <td>SITE_TYPE_DESC_EN</td>\n",
       "    </tr>\n",
       "    <tr>\n",
       "      <th>11</th>\n",
       "      <td>0.117031</td>\n",
       "      <td>SATELLITE_CAT_EN</td>\n",
       "    </tr>\n",
       "    <tr>\n",
       "      <th>15</th>\n",
       "      <td>0.092520</td>\n",
       "      <td>WARRANTY_NAME_CAT_EN</td>\n",
       "    </tr>\n",
       "    <tr>\n",
       "      <th>10</th>\n",
       "      <td>0.072289</td>\n",
       "      <td>SALES_CHANNEL_EN</td>\n",
       "    </tr>\n",
       "    <tr>\n",
       "      <th>1</th>\n",
       "      <td>0.053504</td>\n",
       "      <td>COMPUTER_OWNER_EN</td>\n",
       "    </tr>\n",
       "    <tr>\n",
       "      <th>3</th>\n",
       "      <td>0.047651</td>\n",
       "      <td>FEEDBACK_EN</td>\n",
       "    </tr>\n",
       "    <tr>\n",
       "      <th>5</th>\n",
       "      <td>0.044230</td>\n",
       "      <td>INCOME_EN</td>\n",
       "    </tr>\n",
       "    <tr>\n",
       "      <th>7</th>\n",
       "      <td>0.036434</td>\n",
       "      <td>MODEL_CAT_EN</td>\n",
       "    </tr>\n",
       "    <tr>\n",
       "      <th>12</th>\n",
       "      <td>0.035777</td>\n",
       "      <td>SERVICE_PLAN_CAT_EN</td>\n",
       "    </tr>\n",
       "    <tr>\n",
       "      <th>0</th>\n",
       "      <td>0.023866</td>\n",
       "      <td>AGE</td>\n",
       "    </tr>\n",
       "    <tr>\n",
       "      <th>2</th>\n",
       "      <td>0.007993</td>\n",
       "      <td>DIRECT_INDIRECT_CHANNEL_EN</td>\n",
       "    </tr>\n",
       "    <tr>\n",
       "      <th>9</th>\n",
       "      <td>0.006456</td>\n",
       "      <td>PRESENCE_OF_CHILDREN</td>\n",
       "    </tr>\n",
       "    <tr>\n",
       "      <th>14</th>\n",
       "      <td>0.006443</td>\n",
       "      <td>UPGRADE_IND</td>\n",
       "    </tr>\n",
       "    <tr>\n",
       "      <th>4</th>\n",
       "      <td>0.003918</td>\n",
       "      <td>GENDER</td>\n",
       "    </tr>\n",
       "  </tbody>\n",
       "</table>\n",
       "</div>"
      ],
      "text/plain": [
       "    importance                            labels\n",
       "8     0.185079  MOST_RECENT_SALES_CHANNEL_CAT_EN\n",
       "6     0.144112                    MARITAL_STATUS\n",
       "13    0.122697                 SITE_TYPE_DESC_EN\n",
       "11    0.117031                  SATELLITE_CAT_EN\n",
       "15    0.092520              WARRANTY_NAME_CAT_EN\n",
       "10    0.072289                  SALES_CHANNEL_EN\n",
       "1     0.053504                 COMPUTER_OWNER_EN\n",
       "3     0.047651                       FEEDBACK_EN\n",
       "5     0.044230                         INCOME_EN\n",
       "7     0.036434                      MODEL_CAT_EN\n",
       "12    0.035777               SERVICE_PLAN_CAT_EN\n",
       "0     0.023866                               AGE\n",
       "2     0.007993        DIRECT_INDIRECT_CHANNEL_EN\n",
       "9     0.006456              PRESENCE_OF_CHILDREN\n",
       "14    0.006443                       UPGRADE_IND\n",
       "4     0.003918                            GENDER"
      ]
     },
     "metadata": {},
     "output_type": "display_data"
    },
    {
     "data": {
      "text/plain": [
       "<matplotlib.axes._subplots.AxesSubplot at 0x135d0f28>"
      ]
     },
     "execution_count": 217,
     "metadata": {},
     "output_type": "execute_result"
    },
    {
     "data": {
      "image/png": "[encoded data removed]",
      "text/plain": [
       "<matplotlib.figure.Figure at 0xcbf6320>"
      ]
     },
     "metadata": {},
     "output_type": "display_data"
    }
   ],
   "source": [
    "indices = np.argsort(radm_clf.feature_importances_)[::-1]\n",
    "feature_rank = pd.DataFrame( columns = ['rank', 'feature', 'importance'] )\n",
    "\n",
    "\n",
    "df_f = pd.DataFrame(radm_clf.feature_importances_, columns=[\"importance\"])\n",
    "df_f[\"labels\"] = feature_columns\n",
    "df_f.sort_values(\"importance\", inplace=True, ascending=False)\n",
    "display(df_f)\n",
    "\n",
    "\n",
    "\n",
    "for f in range(train_X.shape[1]):\n",
    "  feature_rank.loc[f] = [f+1,\n",
    "                         train_X.columns[indices[f]],\n",
    "                         radm_clf.feature_importances_[indices[f]]]\n",
    "sn.barplot( y = 'feature', x = 'importance', data = feature_rank )"
   ]
  },
  {
   "cell_type": "markdown",
   "metadata": {
    "collapsed": true
   },
   "source": [
    "    **************************************** THANK YOU *************************************************"
   ]
  }
 ],
 "metadata": {
  "kernelspec": {
   "display_name": "Python 2",
   "language": "python",
   "name": "python2"
  },
  "language_info": {
   "codemirror_mode": {
    "name": "ipython",
    "version": 2
   },
   "file_extension": ".py",
   "mimetype": "text/x-python",
   "name": "python",
   "nbconvert_exporter": "python",
   "pygments_lexer": "ipython2",
   "version": "2.7.14"
  }
 },
 "nbformat": 4,
 "nbformat_minor": 2
}
